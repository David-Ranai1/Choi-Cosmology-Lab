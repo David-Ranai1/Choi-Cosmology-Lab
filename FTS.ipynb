{
 "cells": [
  {
   "cell_type": "code",
   "execution_count": 27,
   "id": "e52b40f3",
   "metadata": {},
   "outputs": [],
   "source": [
    "# high level design based on Pan et al. 2019 https://arxiv.org/pdf/1905.07399.pdf\n",
    "from scipy.constants import c\n",
    "import numpy as np\n",
    "from pprint import pprint"
   ]
  },
  {
   "cell_type": "code",
   "execution_count": 28,
   "id": "3a7f84c2",
   "metadata": {},
   "outputs": [],
   "source": [
    "def FTS_size(Aomega, fmax, df):\n",
    "    r = 1/(2*np.pi)*np.sqrt(Aomega*fmax/df)\n",
    "    theta = 2*np.arcsin(np.sqrt(df/fmax))\n",
    "    x = 12*r\n",
    "    y = 2*r/np.tan(2*theta)\n",
    "    z = 2*r\n",
    "    MaxOptDelay = c/df\n",
    "    ymax = MaxOptDelay/4\n",
    "    DecoConstraint = ymax *((2*np.sin(theta/2))**2)\n",
    "    \n",
    "    return np.degrees(theta), r, x, y, z,MaxOptDelay,ymax,DecoConstraint"
   ]
  },
  {
   "cell_type": "code",
   "execution_count": 29,
   "id": "3551977b",
   "metadata": {},
   "outputs": [
    {
     "name": "stdout",
     "output_type": "stream",
     "text": [
      "theta 6.3 deg\n",
      "r 28.9 mm\n",
      "x 346.9 mm\n",
      "y 258.2 mm\n",
      "z 57.8 mm\n",
      "MaxOptDelay 299792458.0 m\n",
      "ymax 74948114.5 m\n",
      "DecoConstraint 908462.0 m\n"
     ]
    }
   ],
   "source": [
    "# reproducing Pan et al.\n",
    "\n",
    "Aomega = 100 # mm^2 sr\n",
    "fmax = 330 #GHz\n",
    "df = 1 #GHz\n",
    "th, r, x, y, z, MaxOptDelay, ymax, DecoConstraint = FTS_size(Aomega, fmax, df)\n",
    "print('theta %.1f deg' % th)\n",
    "print('r %.1f mm' % r)\n",
    "print('x %.1f mm' % x)\n",
    "print('y %.1f mm' % y)\n",
    "print('z %.1f mm' % z)\n",
    "print('MaxOptDelay %.1f m' % MaxOptDelay)\n",
    "print('ymax %.1f m' % ymax)\n",
    "print('DecoConstraint %.1f m' % DecoConstraint)"
   ]
  },
  {
   "cell_type": "code",
   "execution_count": 30,
   "id": "3f378b0b",
   "metadata": {},
   "outputs": [
    {
     "name": "stdout",
     "output_type": "stream",
     "text": [
      "theta 5.1 deg\n",
      "r 35.6 mm\n",
      "x 427.1 mm\n",
      "y 393.5 mm\n",
      "z 71.2 mm\n",
      "MaxOptDelay 149896229.0 m\n",
      "ymax 37474057.2 m\n",
      "DecoConstraint 299792.5 m\n"
     ]
    }
   ],
   "source": [
    "# for CCAT 2 GHz df\n",
    "\n",
    "Aomega = 100 # mm^2 sr\n",
    "fmax = 1000 #GHz\n",
    "df = 2 #GHz\n",
    "th, r, x, y, z, MaxOptDelay, ymax, DecoConstraint = FTS_size(Aomega, fmax, df)\n",
    "print('theta %.1f deg' % th)\n",
    "print('r %.1f mm' % r)\n",
    "print('x %.1f mm' % x)\n",
    "print('y %.1f mm' % y)\n",
    "print('z %.1f mm' % z)\n",
    "print('MaxOptDelay %.1f m' % MaxOptDelay)\n",
    "print('ymax %.1f m' % ymax)\n",
    "print('DecoConstraint %.1f m' % DecoConstraint)"
   ]
  },
  {
   "cell_type": "code",
   "execution_count": 31,
   "id": "8b1cfae2",
   "metadata": {},
   "outputs": [
    {
     "name": "stdout",
     "output_type": "stream",
     "text": [
      "theta 4.4 deg\n",
      "r 41.1 mm\n",
      "x 493.1 mm\n",
      "y 526.1 mm\n",
      "z 82.2 mm\n",
      "MaxOptDelay 199861638.7 m\n",
      "ymax 49965409.7 m\n",
      "DecoConstraint 299792.5 m\n"
     ]
    }
   ],
   "source": [
    "# for CCAT 1.5 GHz df\n",
    "\n",
    "Aomega = 100 # mm^2 sr\n",
    "fmax = 1000 #GHz\n",
    "df = 1.5 #GHz\n",
    "th, r, x, y, z, MaxOptDelay, ymax, DecoConstraint = FTS_size(Aomega, fmax, df)\n",
    "print('theta %.1f deg' % th)\n",
    "print('r %.1f mm' % r)\n",
    "print('x %.1f mm' % x)\n",
    "print('y %.1f mm' % y)\n",
    "print('z %.1f mm' % z)\n",
    "print('MaxOptDelay %.1f m' % MaxOptDelay)\n",
    "print('ymax %.1f m' % ymax)\n",
    "print('DecoConstraint %.1f m' % DecoConstraint)"
   ]
  },
  {
   "cell_type": "code",
   "execution_count": 32,
   "id": "2ad88cc8",
   "metadata": {},
   "outputs": [
    {
     "name": "stdout",
     "output_type": "stream",
     "text": [
      "theta 3.6 deg\n",
      "r 50.3 mm\n",
      "x 604.0 mm\n",
      "y 791.4 mm\n",
      "z 100.7 mm\n",
      "MaxOptDelay 299792458.0 m\n",
      "ymax 74948114.5 m\n",
      "DecoConstraint 299792.5 m\n"
     ]
    }
   ],
   "source": [
    "# for CCAT 1 GHz df\n",
    "\n",
    "Aomega = 100 # mm^2 sr\n",
    "fmax = 1000 #GHz\n",
    "df = 1 #GHz\n",
    "th, r, x, y, z, MaxOptDelay, ymax, DecoConstraint = FTS_size(Aomega, fmax, df)\n",
    "print('theta %.1f deg' % th)\n",
    "print('r %.1f mm' % r)\n",
    "print('x %.1f mm' % x)\n",
    "print('y %.1f mm' % y)\n",
    "print('z %.1f mm' % z)\n",
    "print('MaxOptDelay %.1f m' % MaxOptDelay)\n",
    "print('ymax %.1f m' % ymax)\n",
    "print('DecoConstraint %.1f m' % DecoConstraint)"
   ]
  },
  {
   "cell_type": "code",
   "execution_count": 33,
   "id": "71182b23",
   "metadata": {},
   "outputs": [
    {
     "name": "stdout",
     "output_type": "stream",
     "text": [
      "theta 3.6 deg\n",
      "r 71.2 mm\n",
      "x 854.1 mm\n",
      "y 1119.2 mm\n",
      "z 142.4 mm\n",
      "MaxOptDelay 299792458.0 m\n",
      "ymax 74948114.5 m\n",
      "DecoConstraint 299792.5 m\n"
     ]
    }
   ],
   "source": [
    "# for CCAT 1 GHz df\n",
    "\n",
    "Aomega = 200 # mm^2 sr\n",
    "fmax = 1000 #GHz\n",
    "df = 1 #GHz\n",
    "th, r, x, y, z, MaxOptDelay, ymax, DecoConstraint = FTS_size(Aomega, fmax, df)\n",
    "print('theta %.1f deg' % th)\n",
    "print('r %.1f mm' % r)\n",
    "print('x %.1f mm' % x)\n",
    "print('y %.1f mm' % y)\n",
    "print('z %.1f mm' % z)\n",
    "print('MaxOptDelay %.1f m' % MaxOptDelay)\n",
    "print('ymax %.1f m' % ymax)\n",
    "print('DecoConstraint %.1f m' % DecoConstraint)"
   ]
  },
  {
   "cell_type": "code",
   "execution_count": 34,
   "id": "95167e52",
   "metadata": {},
   "outputs": [
    {
     "name": "stdout",
     "output_type": "stream",
     "text": [
      "theta 4.4 deg\n",
      "r 41.1 mm\n",
      "x 493.1 mm\n",
      "y 526.1 mm\n",
      "z 82.2 mm\n",
      "MaxOptDelay 199861638.7 m\n",
      "ymax 49965409.7 m\n",
      "DecoConstraint 299792.5 m\n"
     ]
    }
   ],
   "source": [
    "# measurements needed for current FTS\n",
    "Aomega = 100 # mm^2 sr\n",
    "fmax = 1000 #GHz\n",
    "df = 1.5 #GHz\n",
    "th, r, x, y, z, MaxOptDelay, ymax, DecoConstraint = FTS_size(Aomega, fmax, df)\n",
    "print('theta %.1f deg' % th)\n",
    "print('r %.1f mm' % r)\n",
    "print('x %.1f mm' % x)\n",
    "print('y %.1f mm' % y)\n",
    "print('z %.1f mm' % z)\n",
    "print('MaxOptDelay %.1f m' % MaxOptDelay)\n",
    "print('ymax %.1f m' % ymax)\n",
    "print('DecoConstraint %.1f m' % DecoConstraint)\n"
   ]
  },
  {
   "cell_type": "code",
   "execution_count": null,
   "id": "3899929c-25be-4b4e-8eba-a38a8a6fe767",
   "metadata": {},
   "outputs": [],
   "source": []
  }
 ],
 "metadata": {
  "kernelspec": {
   "display_name": "Python 3 (ipykernel)",
   "language": "python",
   "name": "python3"
  },
  "language_info": {
   "codemirror_mode": {
    "name": "ipython",
    "version": 3
   },
   "file_extension": ".py",
   "mimetype": "text/x-python",
   "name": "python",
   "nbconvert_exporter": "python",
   "pygments_lexer": "ipython3",
   "version": "3.12.4"
  }
 },
 "nbformat": 4,
 "nbformat_minor": 5
}
