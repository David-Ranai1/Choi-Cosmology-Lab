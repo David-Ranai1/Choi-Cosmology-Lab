{
 "cells": [
  {
   "cell_type": "code",
   "execution_count": 1,
   "metadata": {},
   "outputs": [],
   "source": [
    "from numpy import *\n",
    "\n",
    "# Constants\n",
    "c = 3e8  # Speed of light in m/s\n",
    "\n",
    "# User-defined inputs (in mm)\n",
    "x = 617.22  # mm\n",
    "y = 583.83  # mm\n",
    "z = 137.16  # mm\n",
    "y_max = 80  # mm\n",
    "r = 61  # Beam splitter radius in mm\n"
   ]
  },
  {
   "cell_type": "code",
   "execution_count": 26,
   "metadata": {},
   "outputs": [
    {
     "name": "stdout",
     "output_type": "stream",
     "text": [
      "Calculated Resolution (del_f): 0.94 GHz\n",
      "Calculated Maximum Frequency (f_max): 282.03 GHz\n",
      "Calculated Etendue (A_Omega): 617.20 mm^2 sr\n"
     ]
    }
   ],
   "source": [
    "\n",
    "# Convert y_max from mm to meters for calculating del_f\n",
    "y_max_m = y_max / 1000  # Convert mm to meters\n",
    "\n",
    "# Step 1: Calculate theta (based on geometric relationship)\n",
    "# theta = 2 * arcsin(sqrt(del_f / f_max))\n",
    "# Here you calculate based on geometry and use tan approximation.\n",
    "theta = 0.5 * arctan(2 * r / y)\n",
    "\n",
    "# Step 2: Calculate del_f from the given equation\n",
    "del_f = c / (4 * y_max_m)  # Result in Hz\n",
    "\n",
    "# Convert del_f to GHz\n",
    "del_f_GHz = del_f / 1e9\n",
    "\n",
    "# Step 3: Calculate f_max using the formula for theta\n",
    "f_max = del_f / sin(theta / 2) ** 2  # Result in Hz\n",
    "\n",
    "# Convert f_max to GHz\n",
    "f_max_GHz = f_max / 1e9\n",
    "\n",
    "# Step 4: Calculate A_Omega (Etendue) using f_max and r\n",
    "# A_Omega = (2 * pi * r * sin(theta / 2))^2\n",
    "A_Omega = (2 * pi * r * sin(theta / 2)) ** 2  # Result in mm^2·sr (since r is in mm)\n",
    "\n",
    "# Convert theta to degrees\n",
    "theta_deg = degrees(theta)\n",
    "\n",
    "# Display results\n",
    "print(f\"Calculated Theta: {theta_deg:.6f} degrees\")\n",
    "print(f\"Calculated Resolution (del_f): {del_f_GHz:.2f} GHz\")\n",
    "print(f\"Calculated Maximum Frequency (f_max): {f_max_GHz:.2f} GHz\")\n",
    "print(f\"Calculated Etendue (A_Omega): {A_Omega:.2f} mm^2 sr\")  # Display in mm^2·sr\n"
   ]
  }
 ],
 "metadata": {
  "kernelspec": {
   "display_name": "Python 3",
   "language": "python",
   "name": "python3"
  },
  "language_info": {
   "codemirror_mode": {
    "name": "ipython",
    "version": 3
   },
   "file_extension": ".py",
   "mimetype": "text/x-python",
   "name": "python",
   "nbconvert_exporter": "python",
   "pygments_lexer": "ipython3",
   "version": "3.12.4"
  }
 },
 "nbformat": 4,
 "nbformat_minor": 2
}
