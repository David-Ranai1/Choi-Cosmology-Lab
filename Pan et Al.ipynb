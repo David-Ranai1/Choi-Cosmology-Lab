{
 "cells": [
  {
   "cell_type": "code",
   "execution_count": 1,
   "metadata": {},
   "outputs": [],
   "source": [
    "from numpy import *\n",
    "\n",
    "# User-defined parameters\n",
    "y_max = 50.8  # Maximum displacement of the center mirror [mm]\n",
    "f_max = 330  # Maximum frequency [GHz]\n",
    "del_f = 1.0  # Resolution [GHz]\n",
    "A_Omega = 100.0  # Etendue [mm^2 sr]"
   ]
  },
  {
   "cell_type": "code",
   "execution_count": 5,
   "metadata": {},
   "outputs": [
    {
     "name": "stdout",
     "output_type": "stream",
     "text": [
      "Maximum Displacement (y_max): 50.8 mm\n",
      "Maximum Optical Delay (d_max): 203.2 mm\n",
      "Beam Splitter Diameter (r): 28.91 mm\n",
      "Theta (opening angle): 6.31 degrees\n",
      "Path Difference (delta): 0.62 mm\n",
      "FTS Box Dimensions: X = 346.94 mm, Y = 258.21 mm, Z = 57.82 mm\n"
     ]
    }
   ],
   "source": [
    "#Equation 1\n",
    "# Equation 1: Maximum optical delay\n",
    "d_max = 4 * y_max  # d_max = 4 * y_max\n",
    "\n",
    "# Equation 2: Path difference\n",
    "# delta = y_max * (2 * sin(theta / 2))^2\n",
    "# Using the delta path difference formula in terms of y_max and theta\n",
    "theta = 2 * arcsin(sqrt(del_f / f_max))\n",
    "delta = y_max * (2 * sin(theta / 2))**2\n",
    "\n",
    "# Equation 3: Beam splitter diameter r\n",
    "r = (1 / (2 * pi)) * sqrt((A_Omega * f_max) / del_f)\n",
    "\n",
    "# Equation 4: Theta (opening angle) as a function of f_max and del_f\n",
    "theta = 2 * arcsin(sqrt(del_f / f_max))\n",
    "\n",
    "# Equations for x, y, z dimensions\n",
    "x = 12 * r  # x = 12 * r\n",
    "y = 2 * r / tan(2 * theta)  # y = 2 * r / tan(2 * theta)\n",
    "z = 2 * r  # z = 2 * r\n",
    "\n",
    "# Convert theta to degrees\n",
    "theta_deg = degrees(theta)\n",
    "\n",
    "# Display results\n",
    "print(f\"Maximum Displacement (y_max): {y_max} mm\")\n",
    "print(f\"Maximum Optical Delay (d_max): {d_max} mm\")\n",
    "print(f\"Beam Splitter Diameter (r): {r:.2f} mm\")\n",
    "print(f\"Theta (opening angle): {theta_deg:.2f} degrees\")\n",
    "print(f\"Path Difference (delta): {delta:.2f} mm\")\n",
    "print(f\"FTS Box Dimensions: X = {x:.2f} mm, Y = {y:.2f} mm, Z = {z:.2f} mm\")"
   ]
  }
 ],
 "metadata": {
  "kernelspec": {
   "display_name": "Python 3",
   "language": "python",
   "name": "python3"
  },
  "language_info": {
   "codemirror_mode": {
    "name": "ipython",
    "version": 3
   },
   "file_extension": ".py",
   "mimetype": "text/x-python",
   "name": "python",
   "nbconvert_exporter": "python",
   "pygments_lexer": "ipython3",
   "version": "3.12.4"
  }
 },
 "nbformat": 4,
 "nbformat_minor": 2
}
