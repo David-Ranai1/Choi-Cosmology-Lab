{
 "cells": [
  {
   "cell_type": "code",
   "execution_count": 25,
   "metadata": {},
   "outputs": [],
   "source": [
    "from numpy import *\n",
    "\n",
    "# Constants\n",
    "c = 3e8  # Speed of light in m/s\n",
    "\n",
    "# User-defined parameters\n",
    "f_max = 900  # Maximum frequency [GHz]\n",
    "del_f = .5  # Resolution [GHz]\n",
    "A_Omega = 300 # Etendue [mm^2 sr]\n"
   ]
  },
  {
   "cell_type": "code",
   "execution_count": 27,
   "metadata": {},
   "outputs": [
    {
     "name": "stdout",
     "output_type": "stream",
     "text": [
      "Maximum Displacement (y_max): 150.00 mm\n",
      "Maximum Optical Delay (d_max): 600.00 mm\n",
      "Beam Splitter Diameter (r): 116.95 mm\n",
      "Theta (opening angle): 2.70 degrees\n",
      "Path Difference (delta): 0.33 mm\n",
      "FTS Box Dimensions: X = 1403.45 mm, Y = 2473.39 mm, Z = 233.91 mm\n"
     ]
    }
   ],
   "source": [
    "\n",
    "# Step 1: Calculate y_max from the given equation\n",
    "del_f_Hz = del_f * 1e9  # Convert GHz to Hz\n",
    "y_max = c / (4 * del_f_Hz) * 1000  # y_max in mm\n",
    "\n",
    "# Step 2: Calculate d_max\n",
    "d_max = 4 * y_max  # Maximum optical delay\n",
    "\n",
    "# Step 3: Path difference delta\n",
    "theta = 2 * arcsin(sqrt(del_f / f_max))  # Opening angle theta\n",
    "delta = y_max * (2 * sin(theta / 2))**2  # Path difference\n",
    "\n",
    "# Step 4: Beam splitter diameter r\n",
    "r = (1 / (2 * pi)) * sqrt((A_Omega * f_max) / del_f)  # r in mm\n",
    "\n",
    "# Step 5: Calculate x, y, and z dimensions of the FTS box\n",
    "x = 12 * r  # x = 12 * r\n",
    "y = 2 * r / tan(2 * theta)  # y = 2 * r / tan(2 * theta)\n",
    "z = 2 * r  # z = 2 * r\n",
    "\n",
    "# Convert theta to degrees\n",
    "theta_deg = degrees(theta)\n",
    "\n",
    "# Display results\n",
    "print(f\"Maximum Displacement (y_max): {y_max:.2f} mm\")\n",
    "print(f\"Maximum Optical Delay (d_max): {d_max:.2f} mm\")\n",
    "print(f\"Beam Splitter Diameter (r): {r:.2f} mm\")\n",
    "print(f\"Theta (opening angle): {theta_deg:.2f} degrees\")\n",
    "print(f\"Path Difference (delta): {delta:.2f} mm\")\n",
    "print(f\"FTS Box Dimensions: X = {x:.2f} mm, Y = {y:.2f} mm, Z = {z:.2f} mm\")\n"
   ]
  }
 ],
 "metadata": {
  "kernelspec": {
   "display_name": "Python 3",
   "language": "python",
   "name": "python3"
  },
  "language_info": {
   "codemirror_mode": {
    "name": "ipython",
    "version": 3
   },
   "file_extension": ".py",
   "mimetype": "text/x-python",
   "name": "python",
   "nbconvert_exporter": "python",
   "pygments_lexer": "ipython3",
   "version": "3.12.4"
  }
 },
 "nbformat": 4,
 "nbformat_minor": 2
}
