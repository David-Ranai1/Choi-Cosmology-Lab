{
 "cells": [
  {
   "cell_type": "code",
   "execution_count": 17,
   "metadata": {},
   "outputs": [],
   "source": [
    "from numpy import *\n",
    "\n",
    "# User-defined inputs\n",
    "x = 617.22\n",
    "y = 583.83\n",
    "z = 137.16\n",
    "y_max = 80\n",
    "c = 3e8"
   ]
  },
  {
   "cell_type": "code",
   "execution_count": 26,
   "metadata": {},
   "outputs": [
    {
     "name": "stdout",
     "output_type": "stream",
     "text": [
      "Calculated Resolution (del_f): 0.94 GHz\n",
      "Calculated Maximum Frequency (f_max): 282.03 GHz\n",
      "Calculated Etendue (A_Omega): 617.20 mm^2 sr\n"
     ]
    }
   ],
   "source": [
    "y_max_m = y_max / 1000  # Convert mm to meters\n",
    "\n",
    "# Step 1: Calculate r from z\n",
    "r = z / 2  # Beam splitter radius in mm\n",
    "\n",
    "# Step 2: Calculate theta from y and r\n",
    "theta = 0.5 * arctan(2 * r / y)\n",
    "\n",
    "# Step 3: Calculate del_f from the equation in the image\n",
    "del_f = c / (4 * y_max_m)  # Result in Hz\n",
    "\n",
    "# Convert del_f to GHz\n",
    "del_f_GHz = del_f / 1e9\n",
    "\n",
    "# Step 4: Calculate f_max using the formula for theta\n",
    "f_max = del_f / sin(theta / 2) ** 2  # Result in Hz\n",
    "\n",
    "# Convert f_max to GHz\n",
    "f_max_GHz = f_max / 1e9\n",
    "\n",
    "# Step 5: Calculate A_Omega (Etendue) using f_max and r\n",
    "# A_Omega = (2 * pi * r * sin(theta / 2))^2\n",
    "A_Omega = (2 * pi * r * sin(theta / 2)) ** 2  # Result in mm^2·sr (since r is in mm)\n",
    "\n",
    "# Convert theta to degrees\n",
    "theta_deg = degrees(theta)\n",
    "\n",
    "# Display results\n",
    "print(f\"Calculated Resolution (del_f): {del_f_GHz:.2f} GHz\")\n",
    "print(f\"Calculated Maximum Frequency (f_max): {f_max_GHz:.2f} GHz\")\n",
    "print(f\"Calculated Etendue (A_Omega): {A_Omega:.2f} mm^2 sr\")  # Display in mm^2·sr"
   ]
  }
 ],
 "metadata": {
  "kernelspec": {
   "display_name": "Python 3",
   "language": "python",
   "name": "python3"
  },
  "language_info": {
   "codemirror_mode": {
    "name": "ipython",
    "version": 3
   },
   "file_extension": ".py",
   "mimetype": "text/x-python",
   "name": "python",
   "nbconvert_exporter": "python",
   "pygments_lexer": "ipython3",
   "version": "3.12.4"
  }
 },
 "nbformat": 4,
 "nbformat_minor": 2
}
